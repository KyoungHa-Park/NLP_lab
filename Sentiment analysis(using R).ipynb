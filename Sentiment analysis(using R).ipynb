{
 "cells": [
  {
   "cell_type": "markdown",
   "metadata": {},
   "source": [
    "작성된 내용은 아래 출처에서 data만 변경하여 진행된 내용입니다.\n",
    "  + 출처1 : https://www.tidytextmining.com/sentiment.html\n",
    "  + 출처2 : https://statkclee.github.io/text/nlp-sentiment.html#-"
   ]
  },
  {
   "cell_type": "markdown",
   "metadata": {},
   "source": [
    "# 영문 text에 대한 감정분석\n",
    "\n",
    "+ 목적 : 만들어진 (영문)감정사전을 이용하여, 각 text에 들어있는 단어별로 감정 분포 확인\n",
    "+ 한계 : 한 단어 기준으로 가능하며, 합성어(2~3개의 단어 조합) 및 문장에 대한 감정분류/분포는 확인이 용의하지 않음"
   ]
  },
  {
   "cell_type": "markdown",
   "metadata": {},
   "source": [
    "+ Index\n",
    "  1. **자료 확보/정제**<br/>\n",
    "     1.1.자료 불러오기<br/>\n",
    "     1.2.자료 형식 확인<br/>\n",
    "     <br/>\n",
    "  2. **token화**<br/>\n",
    "     2.1. 깔끔한 텍스트(tidytext) 변환 <br/>\n",
    "     2.2. token 결과 비교<br/>\n",
    "     <br/>\n",
    "  3. **Text 에서의 감정 분석**<br/>\n",
    "     3.1. 전체 Text 감정분류<br/>\n",
    "     3.2. 각 TITLE별 감성 변화 추이(Trend)<br/>\n",
    "     3.3. 특정 TITLE 내에서의 감성 분포<br/>\n",
    "     3.4. TITLE 별 특정 감정에 대한 분포 비교<br/>\n",
    "     <br/>\n",
    "(참조) 영문 사전 비교\n"
   ]
  },
  {
   "cell_type": "code",
   "execution_count": 52,
   "metadata": {},
   "outputs": [],
   "source": [
    "# 0. 환경설정 ------------------------------\n",
    "\n",
    "# if (!require(\"devtools\")) install.packages(\"devtools\")\n",
    "# devtools::install_github(\"ropenscilabs/gutenbergr\")\n",
    "\n",
    "# if (!require(\"gutenbergr\")) install.packages(\"gutenbergr\")\n",
    "# if (!require(\"tidyverse\")) install.packages(\"tidyverse\")\n",
    "# if (!require(\"DT\")) install.packages(\"DT\")\n",
    "# if (!require(\"stringr\")) install.packages(\"stringr\")\n",
    "# if (!require(\"tidytext\")) install.packages(\"tidytext\")\n",
    "# if (!require(\"ggthemes\")) install.packages(\"ggthemes\")\n",
    "# if (!require(\"extrafont\")) install.packages(\"extrafont\")\n",
    "\n",
    "library(gutenbergr)\n",
    "library(tidyverse)\n",
    "library(DT)\n",
    "library(stringr)\n",
    "library(tidytext)\n",
    "library(ggthemes)\n",
    "library(extrafont)\n",
    "\n",
    "loadfonts()\n"
   ]
  },
  {
   "cell_type": "markdown",
   "metadata": {},
   "source": [
    "### 1.자료 확보/정제"
   ]
  },
  {
   "cell_type": "code",
   "execution_count": 53,
   "metadata": {
    "scrolled": true
   },
   "outputs": [
    {
     "data": {
      "text/html": [
       "<table>\n",
       "<thead><tr><th></th><th scope=col>TITLE</th><th scope=col>text</th></tr></thead>\n",
       "<tbody>\n",
       "\t<tr><th scope=row>194899</th><td>Kaggle                                                                                                                                                                                              </td><td>I spent time with my daughter.                                                                                                                                                                      </td></tr>\n",
       "\t<tr><th scope=row>194900</th><td>Kaggle                                                                                                                                                                                              </td><td>My husband announced he is getting a decent bonus for this quarter.                                                                                                                                 </td></tr>\n",
       "\t<tr><th scope=row>194901</th><td>Kaggle                                                                                                                                                                                              </td><td>Had a can of Pepsi to drink.                                                                                                                                                                        </td></tr>\n",
       "\t<tr><th scope=row>194902</th><td>Kaggle                                                                                                                                                                                              </td><td>Cuddling with my girlfriend last night.                                                                                                                                                             </td></tr>\n",
       "\t<tr><th scope=row>194903</th><td>Kaggle                                                                                                                                                                                              </td><td>I had a great meeting yesterday at work with my boss and a few colleagues and we went out for lunch afterward; everybody was excited by the projects we're working on and how efficient our team is.</td></tr>\n",
       "\t<tr><th scope=row>194904</th><td>Kaggle                                                                                                                                                                                              </td><td>I had a great workout last night.                                                                                                                                                                   </td></tr>\n",
       "</tbody>\n",
       "</table>\n"
      ],
      "text/latex": [
       "\\begin{tabular}{r|ll}\n",
       "  & TITLE & text\\\\\n",
       "\\hline\n",
       "\t194899 & Kaggle                                                                                                                                                                                               & I spent time with my daughter.                                                                                                                                                                      \\\\\n",
       "\t194900 & Kaggle                                                                                                                                                                                               & My husband announced he is getting a decent bonus for this quarter.                                                                                                                                 \\\\\n",
       "\t194901 & Kaggle                                                                                                                                                                                               & Had a can of Pepsi to drink.                                                                                                                                                                        \\\\\n",
       "\t194902 & Kaggle                                                                                                                                                                                               & Cuddling with my girlfriend last night.                                                                                                                                                             \\\\\n",
       "\t194903 & Kaggle                                                                                                                                                                                               & I had a great meeting yesterday at work with my boss and a few colleagues and we went out for lunch afterward; everybody was excited by the projects we're working on and how efficient our team is.\\\\\n",
       "\t194904 & Kaggle                                                                                                                                                                                               & I had a great workout last night.                                                                                                                                                                   \\\\\n",
       "\\end{tabular}\n"
      ],
      "text/markdown": [
       "\n",
       "| <!--/--> | TITLE | text | \n",
       "|---|---|---|---|---|---|\n",
       "| 194899 | Kaggle                                                                                                                                                                                               | I spent time with my daughter.                                                                                                                                                                       | \n",
       "| 194900 | Kaggle                                                                                                                                                                                               | My husband announced he is getting a decent bonus for this quarter.                                                                                                                                  | \n",
       "| 194901 | Kaggle                                                                                                                                                                                               | Had a can of Pepsi to drink.                                                                                                                                                                         | \n",
       "| 194902 | Kaggle                                                                                                                                                                                               | Cuddling with my girlfriend last night.                                                                                                                                                              | \n",
       "| 194903 | Kaggle                                                                                                                                                                                               | I had a great meeting yesterday at work with my boss and a few colleagues and we went out for lunch afterward; everybody was excited by the projects we're working on and how efficient our team is. | \n",
       "| 194904 | Kaggle                                                                                                                                                                                               | I had a great workout last night.                                                                                                                                                                    | \n",
       "\n",
       "\n"
      ],
      "text/plain": [
       "       TITLE \n",
       "194899 Kaggle\n",
       "194900 Kaggle\n",
       "194901 Kaggle\n",
       "194902 Kaggle\n",
       "194903 Kaggle\n",
       "194904 Kaggle\n",
       "       text                                                                                                                                                                                                \n",
       "194899 I spent time with my daughter.                                                                                                                                                                      \n",
       "194900 My husband announced he is getting a decent bonus for this quarter.                                                                                                                                 \n",
       "194901 Had a can of Pepsi to drink.                                                                                                                                                                        \n",
       "194902 Cuddling with my girlfriend last night.                                                                                                                                                             \n",
       "194903 I had a great meeting yesterday at work with my boss and a few colleagues and we went out for lunch afterward; everybody was excited by the projects we're working on and how efficient our team is.\n",
       "194904 I had a great workout last night.                                                                                                                                                                   "
      ]
     },
     "metadata": {},
     "output_type": "display_data"
    }
   ],
   "source": [
    "## 1.1.자료 불러오기 -------------------\n",
    "\n",
    "#-- 자료설명을 위해, CS자료까지 추가하되, 별도 공개하지 않음 --#\n",
    "books <- read.csv(file=\"text_emotion_eng_v2.csv\")\n",
    "\n",
    "###정상 load 확인\n",
    "tail(books)"
   ]
  },
  {
   "cell_type": "code",
   "execution_count": 54,
   "metadata": {},
   "outputs": [
    {
     "name": "stdout",
     "output_type": "stream",
     "text": [
      "'data.frame':\t194904 obs. of  2 variables:\n",
      " $ TITLE: chr  \"IBM\" \"IBM\" \"IBM\" \"IBM\" ...\n",
      " $ text : chr  \"@tiffanylue i know  i was listenin to bad habit earlier and i started freakin at his part =[\" \"Layin n bed with a headache  ughhhh...waitin on your call...\" \"Funeral ceremony...gloomy friday...\" \"wants to hang out with friends SOON!\" ...\n"
     ]
    }
   ],
   "source": [
    "## 1.2.자료 형식 확인 -------------------\n",
    "\n",
    "#-- tidytext 함수 이용을 위해, character 형식으로 변경 --#\n",
    "#-- 대/소문자 구분 주의! --#\n",
    "\n",
    "books$text  <- as.character(books$text)\n",
    "books$TITLE <- as.character(books$TITLE)\n",
    "\n",
    "str(books)"
   ]
  },
  {
   "cell_type": "code",
   "execution_count": 55,
   "metadata": {},
   "outputs": [
    {
     "data": {
      "text/html": [
       "<table>\n",
       "<thead><tr><th scope=col>TITLE</th><th scope=col>n</th></tr></thead>\n",
       "<tbody>\n",
       "\t<tr><td>CS_2017Y           </td><td> 41339             </td></tr>\n",
       "\t<tr><td>IBM                </td><td> 40000             </td></tr>\n",
       "\t<tr><td>Kaggle             </td><td>100535             </td></tr>\n",
       "\t<tr><td>Pride and Prejudice</td><td> 13030             </td></tr>\n",
       "</tbody>\n",
       "</table>\n"
      ],
      "text/latex": [
       "\\begin{tabular}{r|ll}\n",
       " TITLE & n\\\\\n",
       "\\hline\n",
       "\t CS\\_2017Y            &  41339               \\\\\n",
       "\t IBM                 &  40000             \\\\\n",
       "\t Kaggle              & 100535             \\\\\n",
       "\t Pride and Prejudice &  13030             \\\\\n",
       "\\end{tabular}\n"
      ],
      "text/markdown": [
       "\n",
       "TITLE | n | \n",
       "|---|---|---|---|\n",
       "| CS_2017Y            |  41339              | \n",
       "| IBM                 |  40000              | \n",
       "| Kaggle              | 100535              | \n",
       "| Pride and Prejudice |  13030              | \n",
       "\n",
       "\n"
      ],
      "text/plain": [
       "  TITLE               n     \n",
       "1 CS_2017Y             41339\n",
       "2 IBM                  40000\n",
       "3 Kaggle              100535\n",
       "4 Pride and Prejudice  13030"
      ]
     },
     "metadata": {},
     "output_type": "display_data"
    }
   ],
   "source": [
    "## 1.2.항목별 text Line 수 확인 -------------------\n",
    "\n",
    "#-- 해당 count값이 문장수를 의미하지 않음 --#\n",
    "#-- 소설자료의 경우, 임의로 줄바꿈이 있음 --#\n",
    "\n",
    "books %>% \n",
    "    count(TITLE)"
   ]
  },
  {
   "cell_type": "code",
   "execution_count": null,
   "metadata": {},
   "outputs": [],
   "source": []
  },
  {
   "cell_type": "markdown",
   "metadata": {},
   "source": [
    "### 2.token화"
   ]
  },
  {
   "cell_type": "code",
   "execution_count": 56,
   "metadata": {},
   "outputs": [],
   "source": [
    "# 2.1. 깔끔한 텍스트(tidytext) 변환 ---------\n",
    "\n",
    "tidy_books <- books %>% \n",
    "    group_by(TITLE) %>% \n",
    "    mutate(linenumber = row_number()) %>% \n",
    "    unnest_tokens(word, text) %>% \n",
    "    ungroup()"
   ]
  },
  {
   "cell_type": "code",
   "execution_count": 57,
   "metadata": {},
   "outputs": [
    {
     "data": {
      "text/html": [
       "<table>\n",
       "<thead><tr><th></th><th scope=col>TITLE</th><th scope=col>text</th></tr></thead>\n",
       "<tbody>\n",
       "\t<tr><th scope=row>194904</th><td>Kaggle                           </td><td>I had a great workout last night.</td></tr>\n",
       "</tbody>\n",
       "</table>\n"
      ],
      "text/latex": [
       "\\begin{tabular}{r|ll}\n",
       "  & TITLE & text\\\\\n",
       "\\hline\n",
       "\t194904 & Kaggle                            & I had a great workout last night.\\\\\n",
       "\\end{tabular}\n"
      ],
      "text/markdown": [
       "\n",
       "| <!--/--> | TITLE | text | \n",
       "|---|\n",
       "| 194904 | Kaggle                            | I had a great workout last night. | \n",
       "\n",
       "\n"
      ],
      "text/plain": [
       "       TITLE  text                             \n",
       "194904 Kaggle I had a great workout last night."
      ]
     },
     "metadata": {},
     "output_type": "display_data"
    }
   ],
   "source": [
    "# 2.2. token 결과 비교 ---------\n",
    "#- token화 전 -#\n",
    "tail(books,1)"
   ]
  },
  {
   "cell_type": "code",
   "execution_count": 59,
   "metadata": {},
   "outputs": [
    {
     "data": {
      "text/html": [
       "<table>\n",
       "<thead><tr><th scope=col>TITLE</th><th scope=col>linenumber</th><th scope=col>word</th></tr></thead>\n",
       "<tbody>\n",
       "\t<tr><td>Kaggle </td><td>100535 </td><td>i      </td></tr>\n",
       "\t<tr><td>Kaggle </td><td>100535 </td><td>had    </td></tr>\n",
       "\t<tr><td>Kaggle </td><td>100535 </td><td>a      </td></tr>\n",
       "\t<tr><td>Kaggle </td><td>100535 </td><td>great  </td></tr>\n",
       "\t<tr><td>Kaggle </td><td>100535 </td><td>workout</td></tr>\n",
       "\t<tr><td>Kaggle </td><td>100535 </td><td>last   </td></tr>\n",
       "\t<tr><td>Kaggle </td><td>100535 </td><td>night  </td></tr>\n",
       "</tbody>\n",
       "</table>\n"
      ],
      "text/latex": [
       "\\begin{tabular}{r|lll}\n",
       " TITLE & linenumber & word\\\\\n",
       "\\hline\n",
       "\t Kaggle  & 100535  & i      \\\\\n",
       "\t Kaggle  & 100535  & had    \\\\\n",
       "\t Kaggle  & 100535  & a      \\\\\n",
       "\t Kaggle  & 100535  & great  \\\\\n",
       "\t Kaggle  & 100535  & workout\\\\\n",
       "\t Kaggle  & 100535  & last   \\\\\n",
       "\t Kaggle  & 100535  & night  \\\\\n",
       "\\end{tabular}\n"
      ],
      "text/markdown": [
       "\n",
       "TITLE | linenumber | word | \n",
       "|---|---|---|---|---|---|---|\n",
       "| Kaggle  | 100535  | i       | \n",
       "| Kaggle  | 100535  | had     | \n",
       "| Kaggle  | 100535  | a       | \n",
       "| Kaggle  | 100535  | great   | \n",
       "| Kaggle  | 100535  | workout | \n",
       "| Kaggle  | 100535  | last    | \n",
       "| Kaggle  | 100535  | night   | \n",
       "\n",
       "\n"
      ],
      "text/plain": [
       "  TITLE  linenumber word   \n",
       "1 Kaggle 100535     i      \n",
       "2 Kaggle 100535     had    \n",
       "3 Kaggle 100535     a      \n",
       "4 Kaggle 100535     great  \n",
       "5 Kaggle 100535     workout\n",
       "6 Kaggle 100535     last   \n",
       "7 Kaggle 100535     night  "
      ]
     },
     "metadata": {},
     "output_type": "display_data"
    }
   ],
   "source": [
    "#- token화 후 -#\n",
    "tail(tidy_books,7)"
   ]
  },
  {
   "cell_type": "code",
   "execution_count": 10,
   "metadata": {},
   "outputs": [],
   "source": []
  },
  {
   "cell_type": "markdown",
   "metadata": {},
   "source": [
    "### 3.Text 에서의 감정 분석"
   ]
  },
  {
   "cell_type": "code",
   "execution_count": 68,
   "metadata": {},
   "outputs": [
    {
     "name": "stderr",
     "output_type": "stream",
     "text": [
      "Joining, by = \"word\"\n"
     ]
    },
    {
     "data": {},
     "metadata": {},
     "output_type": "display_data"
    },
    {
     "data": {
      "image/png": "[encoded data removed]",
      "text/plain": [
       "plot without title"
      ]
     },
     "metadata": {},
     "output_type": "display_data"
    }
   ],
   "source": [
    "# 3. 감성 분석 ------------------------------------\n",
    "## 3.1. 전체 Text 감정분류 ------------------------\n",
    "\n",
    "#- token화 한 결과에 대해, 합산/정리 -# \n",
    "#- nrc 사전을 이용하여, 10개 감정으로 분류 -# \n",
    "word_counts <- tidy_books %>% \n",
    "    inner_join(get_sentiments(\"nrc\")) %>% \n",
    "    count(word, sentiment)\n",
    "\n",
    "#- 위에서 합산/정리된 결과 중, 상위 20개만 추출/재배열함 -# \n",
    "top_words <- word_counts %>% \n",
    "    group_by(sentiment) %>% \n",
    "    top_n(20, n) %>% \n",
    "    ungroup() %>% \n",
    "    mutate(word = reorder(word, n))\n",
    "\n",
    "#- 상위 20개 결과에 대해 plot chart 그리기 -# \n",
    "ggplot(top_words, aes(word, n, fill = sentiment)) +\n",
    "    geom_col(show.legend = FALSE) +\n",
    "    facet_wrap(~sentiment, scales = \"free\") +  \n",
    "    coord_flip() +\n",
    "    labs(x=\"\", y=\"\")"
   ]
  },
  {
   "cell_type": "code",
   "execution_count": null,
   "metadata": {},
   "outputs": [],
   "source": []
  },
  {
   "cell_type": "code",
   "execution_count": 76,
   "metadata": {},
   "outputs": [
    {
     "name": "stderr",
     "output_type": "stream",
     "text": [
      "Joining, by = \"word\"\n"
     ]
    },
    {
     "data": {
      "text/html": [
       "<table>\n",
       "<thead><tr><th scope=col>TITLE</th><th scope=col>index</th><th scope=col>negative</th><th scope=col>positive</th><th scope=col>sentiment</th></tr></thead>\n",
       "<tbody>\n",
       "\t<tr><td>Pride and Prejudice</td><td>1301               </td><td>4                  </td><td>2                  </td><td>-2                 </td></tr>\n",
       "\t<tr><td>Pride and Prejudice</td><td>1302               </td><td>4                  </td><td>6                  </td><td> 2                 </td></tr>\n",
       "</tbody>\n",
       "</table>\n"
      ],
      "text/latex": [
       "\\begin{tabular}{r|lllll}\n",
       " TITLE & index & negative & positive & sentiment\\\\\n",
       "\\hline\n",
       "\t Pride and Prejudice & 1301                & 4                   & 2                   & -2                 \\\\\n",
       "\t Pride and Prejudice & 1302                & 4                   & 6                   &  2                 \\\\\n",
       "\\end{tabular}\n"
      ],
      "text/markdown": [
       "\n",
       "TITLE | index | negative | positive | sentiment | \n",
       "|---|---|\n",
       "| Pride and Prejudice | 1301                | 4                   | 2                   | -2                  | \n",
       "| Pride and Prejudice | 1302                | 4                   | 6                   |  2                  | \n",
       "\n",
       "\n"
      ],
      "text/plain": [
       "  TITLE               index negative positive sentiment\n",
       "1 Pride and Prejudice 1301  4        2        -2       \n",
       "2 Pride and Prejudice 1302  4        6         2       "
      ]
     },
     "metadata": {},
     "output_type": "display_data"
    }
   ],
   "source": [
    "## 3.2. 각 TITLE별 감성 변화 추이(Trend) -------------\n",
    "\n",
    "#- bing사전을 이용하여, 긍정-부정 감정에 대한 분류 -# \n",
    "#- 임의의 문장(여기서는 10개의 row)을 합쳐, 이를 한 문장으로 봄 -# \n",
    "#- 감정 = 긍정단어 겟수 - 부정단어 겟수로 정의함 -#\n",
    "\n",
    "tidy_books_score <- tidy_books %>%\n",
    "    inner_join(get_sentiments(\"bing\")) %>%\n",
    "    count(TITLE, index = linenumber %/% 10, sentiment) %>%\n",
    "    spread(sentiment, n, fill = 0) %>%\n",
    "    mutate(sentiment = positive - negative)\n",
    "\n",
    "tail(tidy_books_score,2)\n"
   ]
  },
  {
   "cell_type": "code",
   "execution_count": 77,
   "metadata": {},
   "outputs": [
    {
     "name": "stderr",
     "output_type": "stream",
     "text": [
      "Joining, by = \"word\"\n"
     ]
    },
    {
     "data": {},
     "metadata": {},
     "output_type": "display_data"
    },
    {
     "ename": "ERROR",
     "evalue": "Error: Don't know how to add RHS to a theme object\n",
     "output_type": "error",
     "traceback": [
      "Error: Don't know how to add RHS to a theme object\nTraceback:\n",
      "1. `+.gg`(theme_bw(base_family = \"NanumGothic\") + theme(legend.position = \"none\"), \n .     labs(x = \"\", y = \"감성점수\", fill = \"책제목\"))",
      "2. add_theme(e1, e2, e2name)",
      "3. stop(\"Don't know how to add RHS to a theme object\", call. = FALSE)"
     ]
    },
    {
     "data": {
      "image/png": "[encoded data removed]",
      "text/plain": [
       "plot without title"
      ]
     },
     "metadata": {},
     "output_type": "display_data"
    }
   ],
   "source": [
    "tidy_books %>%\n",
    "    inner_join(get_sentiments(\"bing\")) %>%\n",
    "    count(TITLE, index = linenumber %/% 10, sentiment) %>%\n",
    "    spread(sentiment, n, fill = 0) %>%\n",
    "    mutate(sentiment = positive - negative) %>%\n",
    "    ggplot(aes(index, sentiment, fill=TITLE)) +\n",
    "    geom_col() +\n",
    "    facet_wrap(~TITLE, scales =\"free_x\") \n",
    "    theme_bw(base_family = \"NanumGothic\") +\n",
    "    theme(legend.position = \"none\") +\n",
    "    labs(x=\"\", y=\"감성점수\", fill=\"책제목\")"
   ]
  },
  {
   "cell_type": "code",
   "execution_count": 62,
   "metadata": {},
   "outputs": [
    {
     "name": "stderr",
     "output_type": "stream",
     "text": [
      "Joining, by = \"word\"\n",
      "Joining, by = \"word\"\n",
      "Warning message in grid.Call(C_textBounds, as.graphicsAnnot(x$label), x$x, x$y, :\n",
      "\"윈도우즈 폰트데이터베이스에서 찾을 수 없는 폰트페밀리입니다\"Warning message in grid.Call(C_textBounds, as.graphicsAnnot(x$label), x$x, x$y, :\n",
      "\"윈도우즈 폰트데이터베이스에서 찾을 수 없는 폰트페밀리입니다\"Warning message in grid.Call(C_textBounds, as.graphicsAnnot(x$label), x$x, x$y, :\n",
      "\"윈도우즈 폰트데이터베이스에서 찾을 수 없는 폰트페밀리입니다\"Warning message in grid.Call(C_textBounds, as.graphicsAnnot(x$label), x$x, x$y, :\n",
      "\"윈도우즈 폰트데이터베이스에서 찾을 수 없는 폰트페밀리입니다\""
     ]
    },
    {
     "data": {},
     "metadata": {},
     "output_type": "display_data"
    },
    {
     "data": {
      "image/png": "[encoded data removed]",
      "text/plain": [
       "plot without title"
      ]
     },
     "metadata": {},
     "output_type": "display_data"
    }
   ],
   "source": [
    "## 3.3. 특정 TITLE 내에서의 감성 분포 -------------\n",
    "# IBM 자료에 대해, 감정별 단어 확인\n",
    "\n",
    "books_cs <- subset(books,books$TITLE == 'IBM')\n",
    "\n",
    "tidy_books_cs <- books_cs %>% \n",
    "    group_by(TITLE) %>% \n",
    "    mutate(linenumber = row_number()) %>% \n",
    "    unnest_tokens(word, text) %>% \n",
    "    ungroup()\n",
    "\n",
    "tidy_books_cs %>%\n",
    "    anti_join(data_frame(word =\"usher\")) %>% \n",
    "    inner_join(get_sentiments(\"nrc\")) %>%\n",
    "    count(word, sentiment) %>%\n",
    "    group_by(sentiment) %>%\n",
    "    top_n(15, n) %>%\n",
    "    ungroup() %>%\n",
    "    mutate(word = reorder(word, n)) %>%\n",
    "    ggplot(aes(word, n, fill=sentiment)) +\n",
    "    geom_col(show.legend = FALSE) +\n",
    "    facet_wrap(~ sentiment, scales = \"free\") +\n",
    "    coord_flip() +\n",
    "    theme_bw(base_family = \"NanumGothic\") +\n",
    "    theme(legend.position = \"none\") +\n",
    "    labs(x=\"\", y=\"\", fill=\"책제목\")"
   ]
  },
  {
   "cell_type": "code",
   "execution_count": 64,
   "metadata": {
    "scrolled": false
   },
   "outputs": [
    {
     "name": "stderr",
     "output_type": "stream",
     "text": [
      "Joining, by = \"word\"\n",
      "Joining, by = \"word\"\n",
      "Warning message in grid.Call(C_textBounds, as.graphicsAnnot(x$label), x$x, x$y, :\n",
      "\"윈도우즈 폰트데이터베이스에서 찾을 수 없는 폰트페밀리입니다\"Warning message in grid.Call(C_textBounds, as.graphicsAnnot(x$label), x$x, x$y, :\n",
      "\"윈도우즈 폰트데이터베이스에서 찾을 수 없는 폰트페밀리입니다\"Warning message in grid.Call(C_textBounds, as.graphicsAnnot(x$label), x$x, x$y, :\n",
      "\"윈도우즈 폰트데이터베이스에서 찾을 수 없는 폰트페밀리입니다\"Warning message in grid.Call(C_textBounds, as.graphicsAnnot(x$label), x$x, x$y, :\n",
      "\"윈도우즈 폰트데이터베이스에서 찾을 수 없는 폰트페밀리입니다\""
     ]
    },
    {
     "data": {},
     "metadata": {},
     "output_type": "display_data"
    },
    {
     "data": {
      "image/png": "[encoded data removed]",
      "text/plain": [
       "plot without title"
      ]
     },
     "metadata": {},
     "output_type": "display_data"
    }
   ],
   "source": [
    "## 3.4. TITLE 별 특정 감정에 대한 분포 비교 ---------------------\n",
    "# nrc 사전 기준, anger만 비교\n",
    "\n",
    "tidy_books %>%\n",
    "    anti_join(data_frame(word =\"usher\")) %>% \n",
    "    inner_join(get_sentiments(\"nrc\")) %>%\n",
    "    filter(sentiment %in% c(\"anger\")) %>% \n",
    "    count(word, TITLE) %>%\n",
    "    group_by(TITLE) %>%\n",
    "    top_n(10, n) %>%\n",
    "    ungroup() %>%\n",
    "    mutate(word = reorder(paste(word, TITLE, sep = \"__\"), n)) %>%\n",
    "    ggplot(aes(word, n, fill=TITLE)) +\n",
    "    geom_col(show.legend = FALSE) +\n",
    "    facet_wrap(~ TITLE, scales = \"free\") +\n",
    "    coord_flip() +\n",
    "    theme_bw(base_family = \"NanumGothic\") +\n",
    "    theme(legend.position = \"top\") +\n",
    "    labs(x=\"\", y=\"\", fill=\"책제목\") +\n",
    "    scale_x_discrete(labels = function(x) str_replace_all(x, \"__.+$\", \"\"))"
   ]
  },
  {
   "cell_type": "code",
   "execution_count": null,
   "metadata": {},
   "outputs": [],
   "source": []
  },
  {
   "cell_type": "markdown",
   "metadata": {},
   "source": [
    "### (참조) 영문 사전 비교"
   ]
  },
  {
   "cell_type": "code",
   "execution_count": 85,
   "metadata": {},
   "outputs": [
    {
     "name": "stdout",
     "output_type": "stream",
     "text": [
      "# A tibble: 2,476 x 2\n",
      "   word       score\n",
      "   <chr>      <int>\n",
      " 1 abandon       -2\n",
      " 2 abandoned     -2\n",
      " 3 abandons      -2\n",
      " 4 abducted      -2\n",
      " 5 abduction     -2\n",
      " 6 abductions    -2\n",
      " 7 abhor         -3\n",
      " 8 abhorred      -3\n",
      " 9 abhorrent     -3\n",
      "10 abhors        -3\n",
      "# ... with 2,466 more rows\n"
     ]
    }
   ],
   "source": [
    "## 1. afinn 사전  ------------------------\n",
    "### NEG/POS에 대해, -5~5 사이의 값을 부여\n",
    "\n",
    "print(get_sentiments(\"afinn\"))"
   ]
  },
  {
   "cell_type": "code",
   "execution_count": 86,
   "metadata": {},
   "outputs": [
    {
     "name": "stdout",
     "output_type": "stream",
     "text": [
      "# A tibble: 6,788 x 2\n",
      "   word        sentiment\n",
      "   <chr>       <chr>    \n",
      " 1 2-faced     negative \n",
      " 2 2-faces     negative \n",
      " 3 a+          positive \n",
      " 4 abnormal    negative \n",
      " 5 abolish     negative \n",
      " 6 abominable  negative \n",
      " 7 abominably  negative \n",
      " 8 abominate   negative \n",
      " 9 abomination negative \n",
      "10 abort       negative \n",
      "# ... with 6,778 more rows\n"
     ]
    }
   ],
   "source": [
    "## 2. bing 사전  ------------------------\n",
    "### NEG/POS에 대한 구분만 진행\n",
    "print(get_sentiments(\"bing\"))"
   ]
  },
  {
   "cell_type": "code",
   "execution_count": 87,
   "metadata": {},
   "outputs": [
    {
     "name": "stdout",
     "output_type": "stream",
     "text": [
      "# A tibble: 13,901 x 2\n",
      "   word        sentiment\n",
      "   <chr>       <chr>    \n",
      " 1 abacus      trust    \n",
      " 2 abandon     fear     \n",
      " 3 abandon     negative \n",
      " 4 abandon     sadness  \n",
      " 5 abandoned   anger    \n",
      " 6 abandoned   fear     \n",
      " 7 abandoned   negative \n",
      " 8 abandoned   sadness  \n",
      " 9 abandonment anger    \n",
      "10 abandonment fear     \n",
      "# ... with 13,891 more rows\n"
     ]
    }
   ],
   "source": [
    "## 3. nrc 사전  ------------------------\n",
    "### 10가지 감정 구분\n",
    "print(get_sentiments(\"nrc\"))"
   ]
  },
  {
   "cell_type": "code",
   "execution_count": null,
   "metadata": {},
   "outputs": [],
   "source": []
  }
 ],
 "metadata": {
  "kernelspec": {
   "display_name": "R",
   "language": "R",
   "name": "ir"
  },
  "language_info": {
   "codemirror_mode": "r",
   "file_extension": ".r",
   "mimetype": "text/x-r-source",
   "name": "R",
   "pygments_lexer": "r",
   "version": "3.4.3"
  }
 },
 "nbformat": 4,
 "nbformat_minor": 2
}
